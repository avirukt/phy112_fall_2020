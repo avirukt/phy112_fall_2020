{
  "nbformat": 4,
  "nbformat_minor": 0,
  "metadata": {
    "kernelspec": {
      "display_name": "Python [default]",
      "language": "python",
      "name": "python3"
    },
    "language_info": {
      "codemirror_mode": {
        "name": "ipython",
        "version": 3
      },
      "file_extension": ".py",
      "mimetype": "text/x-python",
      "name": "python",
      "nbconvert_exporter": "python",
      "pygments_lexer": "ipython3",
      "version": "3.6.8"
    },
    "colab": {
      "name": "HW4c problems.ipynb",
      "provenance": []
    }
  },
  "cells": [
    {
      "cell_type": "markdown",
      "metadata": {
        "id": "Jnagp0AC8mny",
        "colab_type": "text"
      },
      "source": [
        "# HW4c problems"
      ]
    },
    {
      "cell_type": "markdown",
      "metadata": {
        "id": "KaAvEg8N8mnz",
        "colab_type": "text"
      },
      "source": [
        "## Question 1: Phase mixing"
      ]
    },
    {
      "cell_type": "markdown",
      "metadata": {
        "id": "hfu4jVjN8mn0",
        "colab_type": "text"
      },
      "source": [
        "### Learning objectives\n",
        "In this question you will:\n",
        "\n",
        "- analyse a system with regimes of order and disorder\n"
      ]
    },
    {
      "cell_type": "markdown",
      "metadata": {
        "flags": [
          "problems",
          "solutions"
        ],
        "id": "4I4Zu1ZJ8mn1",
        "colab_type": "text"
      },
      "source": [
        "In this question we will analyse the system from Lecture 7 consisting of two types of atoms on a lattice, as shown below.\n",
        "\n",
        "<div style=\"width: 500px;margin: auto\" align=\"center\">\n",
        "    <img src=\"https://github.com/avirukt/phy112_fall_2020_staging/blob/master/HW4c/lattice_atoms.PNG?raw=1\">\n",
        "</div>\n",
        "\n",
        "If there is a repulsive force between the atoms, the minimum energy state has all the atoms separated as in figure (a) above.\n",
        "\n",
        "Let there be $N_{A,B}$ atoms of each type, and let $n$ be the number of atoms of each type that are in the opposite phase. For $n\\ll N_{A,B}$, we can assume each such atom is surrounded by atoms of the opposite type and hence feels some repulsive energy $U>0$. Hence the total energy is $2nU$. The entropy of such a state is $\\sigma = \\log\\begin{pmatrix} N_A\\\\n\\end{pmatrix}\\begin{pmatrix} N_B\\\\n\\end{pmatrix}$. Thus the free energy is $$ F=2nU-\\tau\\log\\frac{N_A!}{n!(N_A-n)!}\\frac{N_B}{n!(N_B-n)!}.$$"
      ]
    },
    {
      "cell_type": "markdown",
      "metadata": {
        "id": "0Xns6d-18mn2",
        "colab_type": "text"
      },
      "source": [
        "### 1a. "
      ]
    },
    {
      "cell_type": "markdown",
      "metadata": {
        "flags": [
          "problems",
          "solutions"
        ],
        "id": "XnUXsfqc8mn3",
        "colab_type": "text"
      },
      "source": [
        "Set $N_A=N_B=N=1000$. Make a 2-d plot of $F$, with $0\\le n < \\frac{1}{3}N$ on the $y$-axis and $0\\le \\frac{\\tau}{U}\\le 1$ on the $x$-axis. Do not use the Stirling approximation! (Under what conditions is the Stirling approximation applicable?)\n",
        "\n",
        "(Hint: see the [tutorial on numpy arrays](https://github.com/berkeley-physics/Python-Tutorials/blob/master/2%20-%20Intermediate/3%20-%20NumPy%20arrays.ipynb) for an example of a 2-d plot)"
      ]
    },
    {
      "cell_type": "code",
      "metadata": {
        "id": "ECfULsOW8mn4",
        "colab_type": "code",
        "colab": {}
      },
      "source": [
        "#Write your answer here"
      ],
      "execution_count": null,
      "outputs": []
    },
    {
      "cell_type": "markdown",
      "metadata": {
        "id": "R8_krNam8mn9",
        "colab_type": "text"
      },
      "source": [
        "### 1b. "
      ]
    },
    {
      "cell_type": "markdown",
      "metadata": {
        "flags": [
          "problems",
          "solutions"
        ],
        "id": "gQI9SrcC8mn9",
        "colab_type": "text"
      },
      "source": [
        "Plot the \"order parameter\" $n$ that minimises $F$ as a function of $\\tau$. Identify on your plot the temperature regions where the disordered (mixed) phase and the ordered (separated) phase are preferred."
      ]
    },
    {
      "cell_type": "code",
      "metadata": {
        "id": "vx3atqNC8mn-",
        "colab_type": "code",
        "colab": {}
      },
      "source": [
        "#Write your answer here"
      ],
      "execution_count": null,
      "outputs": []
    }
  ]
}